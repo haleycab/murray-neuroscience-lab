{
 "cells": [
  {
   "cell_type": "code",
   "execution_count": null,
   "metadata": {},
   "outputs": [],
   "source": [
    "import matplotlib.pyplot as plt\n",
    "import pandas as pd\n",
    "import numpy as np\n",
    "import pyabf"
   ]
  },
  {
   "cell_type": "markdown",
   "metadata": {},
   "source": [
    "Making this notebook to show James what I have been doing so far in a consolidated format"
   ]
  },
  {
   "cell_type": "markdown",
   "metadata": {},
   "source": [
    "Looking at the waveforms (from Plotting folder)"
   ]
  },
  {
   "cell_type": "markdown",
   "metadata": {},
   "source": [
    "Annotations sheet --(app script)> unformatted csv files "
   ]
  },
  {
   "cell_type": "markdown",
   "metadata": {},
   "source": [
    "unformatted csv files --(excell processor)> formatted csv files "
   ]
  },
  {
   "cell_type": "markdown",
   "metadata": {},
   "source": [
    "`annotations_loader` : Make `sheets` dict with 38 dataframes of all processed .csvs"
   ]
  },
  {
   "cell_type": "code",
   "execution_count": null,
   "metadata": {},
   "outputs": [],
   "source": [
    "cell_types_df = pd.read_csv(\"/Users/Haley/Desktop/Neuroscience Lab/Repository/murray-neuroscience-lab/Excel processor/List of cells.csv\")\n",
    "cell_types_df = cell_types_df.dropna(how='all')\n",
    "cell_types_df = cell_types_df.iloc[:,:4]\n",
    "cell_types_df.reset_index(drop=True,inplace=True)\n",
    "sheets_types = cell_types_df[\"Cell\"].unique().tolist()"
   ]
  },
  {
   "cell_type": "code",
   "execution_count": null,
   "metadata": {},
   "outputs": [],
   "source": [
    "sheet_names_df = pd.read_csv('/Users/Haley/Desktop/Neuroscience Lab/Repository/murray-neuroscience-lab/Processed CSVs/sheet_names.csv', header=None)\n",
    "sheet_names = sheet_names_df.iloc[:,0].values\n",
    "sheets = {}\n",
    "\n",
    "for sheet in sheet_names:\n",
    "    file_path = \"/Users/Haley/Desktop/Neuroscience Lab/Repository/murray-neuroscience-lab/Processed CSVs/\"+sheet+\".csv\"\n",
    "    df = pd.read_csv(file_path)\n",
    "    df[[\"Trace name\",\"Tags\",\"Type\"]] = df[[\"Trace name\",\"Tags\",\"Type\"]].astype(\"string\")\n",
    "    if sheet in sheets_types:\n",
    "        types = cell_types_df[cell_types_df[\"Cell\"]==sheet]\n",
    "        df[\"Cell Type\"] = types.iloc[0][1]\n",
    "        df[\"Input Resistance\"] = types.iloc[0][2]\n",
    "        df[\"Motoneuron\"] = types.iloc[0][3]\n",
    "    sheets[sheet] = df\n",
    "\n",
    "sheets"
   ]
  },
  {
   "cell_type": "markdown",
   "metadata": {},
   "source": [
    "`binwaves_` : make abfs dict to store .abf files for each of the 38 sheets"
   ]
  },
  {
   "cell_type": "markdown",
   "metadata": {},
   "source": [
    "make `abfs` dict: contains the abf file of each trace in the annotation df sheet"
   ]
  },
  {
   "cell_type": "code",
   "execution_count": null,
   "metadata": {},
   "outputs": [],
   "source": [
    "traces = df[\"Trace name\"].unique().tolist()\n",
    "abfs = {}\n",
    "\n",
    "for trace in traces:\n",
    "    abfs[trace] = []\n",
    "    file_path2 = \"/Users/Haley/Downloads/.abf files annotated/\" + trace +\".abf\"\n",
    "    abf = pyabf.ABF(file_path2)\n",
    "    abfs[trace]= abf"
   ]
  },
  {
   "cell_type": "code",
   "execution_count": null,
   "metadata": {},
   "outputs": [],
   "source": [
    "def make_waveforms(abf,df):\n",
    "    '''\n",
    "    Function that takes an abf file and a df of the annotations\n",
    "    Returns a dictionary with waveforms labeled by their frequency\n",
    "    '''\n",
    "    abf.setSweep(sweepNumber=0, channel=0)\n",
    "    x = abf.sweepX\n",
    "    y = abf.sweepY\n",
    "    abf_df = pd.DataFrame({\n",
    "        'Time': x,\n",
    "        'Current': y\n",
    "    })\n",
    "    # df[\"On time\"] = pd.to_numeric(df[\"On time\"], errors=\"coerce\")\n",
    "    # df[\"Seconds\"] = df['On time']*0.001\n",
    "    waveforms = {}\n",
    "    for i in range(len(df) - 1):\n",
    "        t_0 = df.iloc[i,6] \n",
    "        t_f = df.iloc[i+1,6]\n",
    "        phase_0 = int(t_0 * 100000)\n",
    "        phase_1 = int(t_f * 100000)\n",
    "        abf_waveform = abf_df.loc[phase_0:phase_1]\n",
    "        phase = (abf_waveform[\"Time\"] - t_0) / (t_f - t_0)\n",
    "        abf_waveform[\"Phase\"] = phase\n",
    "        \n",
    "        # NORMALIZE CURRENT ALSO, test this:\n",
    "        y_max = max(abf_waveform[\"Current\"])\n",
    "        y_min = min(abf_waveform[\"Current\"])\n",
    "        normalized = (abf_waveform[\"Current\"] - y_min) / (y_max - y_min)\n",
    "        abf_waveform[\"Normalized Current\"] = normalized\n",
    "        #=====\n",
    "\n",
    "        # Dict keys\n",
    "        freq = 1 / (t_f-t_0) # CHECK = df.loc[i + 1, \"Freq\"]\n",
    "        cell_type = df.iloc[0,5]\n",
    "        signal_type = df.iloc[0,7]\n",
    "        fast_slow = df.iloc[0,8:9] # 8:resistance 9:prim/sec low/high rin need to see what is fast/slow\n",
    "        key = (freq,cell_type,signal_type,fast_slow)\n",
    "        waveforms[key] = abf_waveform\n",
    "\n",
    "    return waveforms"
   ]
  },
  {
   "cell_type": "markdown",
   "metadata": {},
   "source": [
    "need abfs[trace] and sheets[sheet[sheet[\"Trace name\"]==Trace]]"
   ]
  },
  {
   "cell_type": "markdown",
   "metadata": {},
   "source": [
    "use loops in annotations loader to make mega dict"
   ]
  },
  {
   "cell_type": "markdown",
   "metadata": {},
   "source": [
    "TEST: add nested dicts with abf files into `sheets` "
   ]
  },
  {
   "cell_type": "code",
   "execution_count": null,
   "metadata": {},
   "outputs": [],
   "source": [
    "for sheet in sheets.keys():\n",
    "    df = sheets[sheet]\n",
    "    traces = df[\"Trace name\"].unique().tolist()\n",
    "    abfs = {}\n",
    "    for trace in traces:\n",
    "        abfs[trace] = []\n",
    "        file_path2 = \"/Users/Haley/Downloads/.abf files annotated/\" + trace +\".abf\"\n",
    "        abf = pyabf.ABF(file_path2)\n",
    "        abfs[trace]= abf\n",
    "    sheets[sheet] = {\n",
    "        \"annotations\": sheets[sheet],\n",
    "        \"abfs\": abfs\n",
    "    }"
   ]
  },
  {
   "cell_type": "markdown",
   "metadata": {},
   "source": [
    "TEST: loop to make a mega dict `all_waveforms`"
   ]
  },
  {
   "cell_type": "code",
   "execution_count": null,
   "metadata": {},
   "outputs": [],
   "source": [
    "all_waveforms = {}\n",
    "for sheet in sheets.keys():\n",
    "    traces_df_mkwf = sheets[sheet][\"annotations\"]\n",
    "    abfs_mkwv = sheets[sheet][\"abfs\"]\n",
    "    traces = traces_df_mkwf[\"Trace name\"].unique().tolist()\n",
    "    for trace in traces:\n",
    "        abf_mkwv = abfs_mkwv[trace]\n",
    "        df_mkwv = traces_df_mkwf[traces_df_mkwf[\"Trace name\"]==trace]\n",
    "        waveforms = make_waveforms(abf_mkwv,df_mkwv)\n",
    "\n",
    "        # NEED TO FIGURE OUT HOW TO JOIN WAVEFORMS W ALL WAVEFORMS DICTIONARIES HERE"
   ]
  },
  {
   "cell_type": "code",
   "execution_count": null,
   "metadata": {},
   "outputs": [],
   "source": [
    "def bin_wave(onewave):\n",
    "    # Make edges for the bin\n",
    "    bins = np.linspace(0, 1, 51, endpoint = True)\n",
    "\n",
    "    # Cut the phase into bins\n",
    "    onewave['Phase Bin'] = pd.cut(onewave['Phase'], bins=bins, include_lowest=True)\n",
    "    # print(onewave)\n",
    "\n",
    "    # Group by the bins and calculate the average current\n",
    "    # binned_avg = onewave.groupby(by='Phase Bin','Current')\n",
    "    binned_avg = onewave.groupby('Phase Bin')['Current'].mean().reset_index()\n",
    "    # print(binned_avg)\n",
    "\n",
    "    # Get phase column for plotting (middle of bin)\n",
    "    phase = np.arange(0.01, 1.00001, 0.02)\n",
    "    # len(phase)\n",
    "    binned_avg['Phase'] = phase\n",
    "    return binned_avg"
   ]
  },
  {
   "cell_type": "markdown",
   "metadata": {},
   "source": [
    "bin `all_waveforms`"
   ]
  },
  {
   "cell_type": "code",
   "execution_count": null,
   "metadata": {},
   "outputs": [],
   "source": [
    "all_waveforms = make_waveforms(abf, annotation_df)\n",
    "onewave = all_waveforms[np.float64(35.906642728904366)]\n",
    "binned_waveforms = {}\n",
    "for wave in all_waveforms.keys():\n",
    "    binned = bin_wave(all_waveforms[wave])\n",
    "    binned_waveforms[wave] = binned"
   ]
  },
  {
   "cell_type": "markdown",
   "metadata": {},
   "source": [
    "NEXT: access keys to average across the key types and plot\n",
    "- current type: excitatory, inhibitory, cell-attached\n",
    "- frequency bins:\n",
    "- rin: low/mid/high or fast/slow\n",
    "- cell type: CaP,vRoP,MiP,dRoP,dVS,dSMN,vSMN,iSMN"
   ]
  },
  {
   "cell_type": "markdown",
   "metadata": {},
   "source": [
    "function(current,freq,rin,type) -> plot waveform"
   ]
  },
  {
   "cell_type": "markdown",
   "metadata": {},
   "source": []
  }
 ],
 "metadata": {
  "language_info": {
   "name": "python"
  }
 },
 "nbformat": 4,
 "nbformat_minor": 2
}
