{
 "cells": [
  {
   "cell_type": "markdown",
   "metadata": {},
   "source": [
    "Notebook to process abf files into dictionaries with waveforms"
   ]
  },
  {
   "cell_type": "code",
   "execution_count": null,
   "metadata": {},
   "outputs": [],
   "source": [
    "import pandas as pd"
   ]
  },
  {
   "cell_type": "markdown",
   "metadata": {},
   "source": [
    "Code to process excel spreadsheet into readable data frame with 'Trace name' as the index. Just download csv tab from spreadsheet and run"
   ]
  },
  {
   "cell_type": "code",
   "execution_count": null,
   "metadata": {},
   "outputs": [],
   "source": [
    "def load_and_clean_csv(filepath):\n",
    "    # Read the raw CSV , headers are irregular\n",
    "    df_raw = pd.read_csv(filepath, header=None)\n",
    "\n",
    "    # The actual data starts from the 2nd row (index 1), so slice from there\n",
    "    data = df_raw.iloc[1:]\n",
    "\n",
    "    # Each block has 5 columns: Trace name, ID, On time, Freq, Tags\n",
    "    num_cols = df_raw.shape[1]\n",
    "    block_size = 5\n",
    "\n",
    "    # Find how many full 5-column blocks exist\n",
    "    blocks = []\n",
    "    for start in range(1, num_cols, block_size + 1):  # +1 accounts for those extra separators\n",
    "        end = start + block_size\n",
    "        if end <= num_cols:\n",
    "            block = data.iloc[:, start:end]\n",
    "            block.columns = ['Trace name', 'ID', 'On time', 'Frequency', 'Swim description']\n",
    "            blocks.append(block)\n",
    "\n",
    "    # Combine all blocks into one DataFrame\n",
    "    df_clean = pd.concat(blocks, ignore_index=True)\n",
    "\n",
    "    # Drop rows that are completely empty \n",
    "    df_clean = df_clean.dropna(how='all')\n",
    "\n",
    "    # Set index to trace name and delete first row with column labels\n",
    "    df_clean.set_index('Trace name',inplace=True)\n",
    "    df_clean = df_clean.iloc[1:]\n",
    "    return df_clean\n"
   ]
  },
  {
   "cell_type": "markdown",
   "metadata": {},
   "source": [
    "Access specific abf file using df['trace_name']"
   ]
  },
  {
   "cell_type": "markdown",
   "metadata": {},
   "source": [
    "Function that splits abf df into dictionary with each waveworm, just load abf file and then pass cleaned df that goes with abf file"
   ]
  },
  {
   "cell_type": "code",
   "execution_count": null,
   "metadata": {},
   "outputs": [],
   "source": [
    "def make_waveforms(abf,df):\n",
    "    '''\n",
    "    Function that takes an abf file and a df of the annotations \n",
    "    Returns a dictionary with waveforms labeled by their frequency\n",
    "    '''\n",
    "    abf.setSweep(sweepNumber=0, channel=0)\n",
    "    x = abf.sweepX\n",
    "    y = abf.sweepY\n",
    "    abf_df = pd.DataFrame({\n",
    "        'Time': x,\n",
    "        'Current': y\n",
    "    })   \n",
    "    df[\"Seconds\"] = df['On time']*0.001\n",
    "    waveforms = {} \n",
    "    for i in range(len(df) - 1):\n",
    "        t_0 = df.loc[i, 'Seconds']\n",
    "        t_f = df.loc[i + 1, 'Seconds']\n",
    "        phase_0 = int(t_0 * 100000)\n",
    "        phase_1 = int(t_f * 100000)\n",
    "        abf_waveform = abf_df.loc[phase_0:phase_1].copy()\n",
    "        abf_waveform[\"Phase\"] = (abf_waveform[\"Time\"] - t_0) / (t_f - t_0)\n",
    "        freq = df.loc[i + 1, \"Freq\"]\n",
    "        waveforms[freq] = abf_waveform\n",
    "\n",
    "    return waveforms\n"
   ]
  },
  {
   "cell_type": "markdown",
   "metadata": {},
   "source": [
    "Same function with include tags option"
   ]
  },
  {
   "cell_type": "code",
   "execution_count": null,
   "metadata": {},
   "outputs": [],
   "source": [
    "def make_waveforms(abf, df, include_tags=False):\n",
    "    '''\n",
    "    Function that takes an abf file and a df of the annotations.\n",
    "    Returns a dictionary with waveforms labeled by their frequency.\n",
    "    \n",
    "    If include_tags=True, each entry includes the waveform DataFrame and its tags.\n",
    "    '''\n",
    "    abf.setSweep(sweepNumber=0, channel=0)\n",
    "    x = abf.sweepX\n",
    "    y = abf.sweepY\n",
    "    abf_df = pd.DataFrame({\n",
    "        'Time': x,\n",
    "        'Current': y\n",
    "    })   \n",
    "    df[\"Seconds\"] = df['On time'] * 0.001\n",
    "    waveforms = {}\n",
    "\n",
    "    for i in range(len(df) - 1):\n",
    "        t_0 = df.loc[i, 'Seconds']\n",
    "        t_f = df.loc[i + 1, 'Seconds']\n",
    "        phase_0 = int(t_0 * 100000)\n",
    "        phase_1 = int(t_f * 100000)\n",
    "        abf_waveform = abf_df.loc[phase_0:phase_1].copy()\n",
    "        abf_waveform[\"Phase\"] = (abf_waveform[\"Time\"] - t_0) / (t_f - t_0)\n",
    "        freq = df.loc[i + 1, \"Freq\"]\n",
    "\n",
    "        if include_tags:\n",
    "            tags_current = df.loc[i, \"Tags\"] if isinstance(df.loc[i, \"Tags\"], str) else \"\"\n",
    "            tags_next = df.loc[i + 1, \"Tags\"] if isinstance(df.loc[i + 1, \"Tags\"], str) else \"\"\n",
    "            waveforms[freq] = {\n",
    "                \"waveform\": abf_waveform[[\"Time\", \"Current\", \"Phase\"]],\n",
    "                \"tags_current\": tags_current,\n",
    "                \"tags_next\": tags_next\n",
    "            }\n",
    "        else:\n",
    "            waveforms[freq] = abf_waveform[[\"Time\", \"Current\", \"Phase\"]]\n",
    "\n",
    "    return waveforms\n"
   ]
  },
  {
   "cell_type": "code",
   "execution_count": null,
   "metadata": {},
   "outputs": [],
   "source": [
    "dict = make_waveforms(abf, df, include_tags=False)\n"
   ]
  },
  {
   "cell_type": "markdown",
   "metadata": {},
   "source": [
    "Waveforms labeled by frequency:"
   ]
  },
  {
   "cell_type": "code",
   "execution_count": null,
   "metadata": {},
   "outputs": [],
   "source": [
    "dict.keys()"
   ]
  },
  {
   "cell_type": "markdown",
   "metadata": {},
   "source": [
    "Get one wave using key"
   ]
  },
  {
   "cell_type": "code",
   "execution_count": null,
   "metadata": {},
   "outputs": [],
   "source": [
    "onewave = dict[np.float64(34.0716)]\n",
    "print(onewave)"
   ]
  },
  {
   "cell_type": "markdown",
   "metadata": {},
   "source": [
    "Bin data"
   ]
  },
  {
   "cell_type": "code",
   "execution_count": null,
   "metadata": {},
   "outputs": [],
   "source": [
    "\n",
    "# Make edges for the bin\n",
    "bins = np.linspace(0, 1, 51, endpoint = True)  \n",
    "# print(bins)\n",
    "\n",
    "# Cut the phase into bins\n",
    "onewave['Phase Bin'] = pd.cut(onewave['Phase'], bins=bins, include_lowest=True)\n",
    "# print(onewave)\n",
    "\n",
    "# Group by the bins and calculate the average current\n",
    "# binned_avg = onewave.groupby(by='Phase Bin','Current')\n",
    "binned_avg = onewave.groupby('Phase Bin')['Current'].mean().reset_index()\n",
    "# print(binned_avg)\n",
    "\n",
    "# Get phase column for plotting (middle of bin)\n",
    "phase = np.arange(0.01, 1.00001, 0.02)\n",
    "# len(phase)\n",
    "binned_avg['Phase'] = phase\n",
    "binned_avg.head()"
   ]
  },
  {
   "cell_type": "markdown",
   "metadata": {},
   "source": [
    "Plot the waveform\""
   ]
  },
  {
   "cell_type": "code",
   "execution_count": null,
   "metadata": {},
   "outputs": [],
   "source": [
    "binned_avg.plot('Phase','Current',kind = 'line')"
   ]
  }
 ],
 "metadata": {
  "language_info": {
   "name": "python"
  }
 },
 "nbformat": 4,
 "nbformat_minor": 2
}
